{
 "cells": [
  {
   "cell_type": "code",
   "execution_count": 1,
   "metadata": {
    "executionInfo": {
     "elapsed": 353,
     "status": "ok",
     "timestamp": 1728844981048,
     "user": {
      "displayName": "Cao Vũ",
      "userId": "03249850974018479885"
     },
     "user_tz": -420
    },
    "id": "DoihfLHTMNPl"
   },
   "outputs": [],
   "source": [
    "import numpy as np\n",
    "import pandas as pd\n",
    "import matplotlib.pyplot as plt\n",
    "import seaborn as sns\n",
    "pd.set_option('display.max_columns', None)\n",
    "from scipy.stats import chi2_contingency, spearmanr, skew, pearsonr, zscore, stats\n",
    "from sklearn.metrics import r2_score, roc_curve, auc, confusion_matrix, accuracy_score, classification_report, precision_recall_fscore_support, roc_auc_score\n",
    "from sklearn.model_selection import train_test_split, cross_val_score, KFold, StratifiedKFold\n",
    "from sklearn.preprocessing import LabelEncoder, MinMaxScaler, StandardScaler, PolynomialFeatures\n",
    "from sklearn.linear_model import LogisticRegression"
   ]
  },
  {
   "cell_type": "code",
   "execution_count": 3,
   "metadata": {},
   "outputs": [
    {
     "data": {
      "text/html": [
       "<div>\n",
       "<style scoped>\n",
       "    .dataframe tbody tr th:only-of-type {\n",
       "        vertical-align: middle;\n",
       "    }\n",
       "\n",
       "    .dataframe tbody tr th {\n",
       "        vertical-align: top;\n",
       "    }\n",
       "\n",
       "    .dataframe thead th {\n",
       "        text-align: right;\n",
       "    }\n",
       "</style>\n",
       "<table border=\"1\" class=\"dataframe\">\n",
       "  <thead>\n",
       "    <tr style=\"text-align: right;\">\n",
       "      <th></th>\n",
       "      <th>APP_ID</th>\n",
       "      <th>BAD</th>\n",
       "      <th>APPMONTHPAYMENT</th>\n",
       "      <th>NATIONALID_DATE</th>\n",
       "      <th>CREDITSUM</th>\n",
       "      <th>PRIMARYINCOME</th>\n",
       "      <th>RATIO_INST_PER_INCOME</th>\n",
       "      <th>APPEDUCATION</th>\n",
       "      <th>PRODUCT</th>\n",
       "    </tr>\n",
       "  </thead>\n",
       "  <tbody>\n",
       "    <tr>\n",
       "      <th>0</th>\n",
       "      <td>225042</td>\n",
       "      <td>0</td>\n",
       "      <td>1786000</td>\n",
       "      <td>5.33</td>\n",
       "      <td>15825000.0</td>\n",
       "      <td>12000000</td>\n",
       "      <td>0.178600</td>\n",
       "      <td>High School</td>\n",
       "      <td>NaN</td>\n",
       "    </tr>\n",
       "    <tr>\n",
       "      <th>1</th>\n",
       "      <td>80968</td>\n",
       "      <td>0</td>\n",
       "      <td>2257000</td>\n",
       "      <td>6.32</td>\n",
       "      <td>15000000.0</td>\n",
       "      <td>5000000</td>\n",
       "      <td>0.550488</td>\n",
       "      <td>Middle School</td>\n",
       "      <td>NaN</td>\n",
       "    </tr>\n",
       "    <tr>\n",
       "      <th>2</th>\n",
       "      <td>158503</td>\n",
       "      <td>1</td>\n",
       "      <td>1730000</td>\n",
       "      <td>4.08</td>\n",
       "      <td>14770000.0</td>\n",
       "      <td>8000000</td>\n",
       "      <td>0.247143</td>\n",
       "      <td>Basic School</td>\n",
       "      <td>NaN</td>\n",
       "    </tr>\n",
       "    <tr>\n",
       "      <th>3</th>\n",
       "      <td>121869</td>\n",
       "      <td>0</td>\n",
       "      <td>1951000</td>\n",
       "      <td>2.05</td>\n",
       "      <td>20000000.0</td>\n",
       "      <td>11000000</td>\n",
       "      <td>0.243875</td>\n",
       "      <td>High School</td>\n",
       "      <td>Secured normal customer</td>\n",
       "    </tr>\n",
       "    <tr>\n",
       "      <th>4</th>\n",
       "      <td>160681</td>\n",
       "      <td>1</td>\n",
       "      <td>2059000</td>\n",
       "      <td>0.62</td>\n",
       "      <td>31650000.0</td>\n",
       "      <td>15000000</td>\n",
       "      <td>0.158385</td>\n",
       "      <td>Master Degree</td>\n",
       "      <td>Secured normal customer</td>\n",
       "    </tr>\n",
       "    <tr>\n",
       "      <th>...</th>\n",
       "      <td>...</td>\n",
       "      <td>...</td>\n",
       "      <td>...</td>\n",
       "      <td>...</td>\n",
       "      <td>...</td>\n",
       "      <td>...</td>\n",
       "      <td>...</td>\n",
       "      <td>...</td>\n",
       "      <td>...</td>\n",
       "    </tr>\n",
       "    <tr>\n",
       "      <th>105266</th>\n",
       "      <td>128917</td>\n",
       "      <td>0</td>\n",
       "      <td>1191000</td>\n",
       "      <td>2.27</td>\n",
       "      <td>10550000.0</td>\n",
       "      <td>20000000</td>\n",
       "      <td>0.066167</td>\n",
       "      <td>Middle School</td>\n",
       "      <td>NaN</td>\n",
       "    </tr>\n",
       "    <tr>\n",
       "      <th>105267</th>\n",
       "      <td>176369</td>\n",
       "      <td>0</td>\n",
       "      <td>1886000</td>\n",
       "      <td>9.65</td>\n",
       "      <td>31650000.0</td>\n",
       "      <td>6000000</td>\n",
       "      <td>0.369804</td>\n",
       "      <td>Middle School</td>\n",
       "      <td>Secured priority customer</td>\n",
       "    </tr>\n",
       "    <tr>\n",
       "      <th>105268</th>\n",
       "      <td>36002</td>\n",
       "      <td>0</td>\n",
       "      <td>2097000</td>\n",
       "      <td>12.85</td>\n",
       "      <td>32250000.0</td>\n",
       "      <td>10000000</td>\n",
       "      <td>0.233000</td>\n",
       "      <td>High School</td>\n",
       "      <td>Secured normal customer</td>\n",
       "    </tr>\n",
       "    <tr>\n",
       "      <th>105269</th>\n",
       "      <td>132658</td>\n",
       "      <td>0</td>\n",
       "      <td>1530000</td>\n",
       "      <td>0.09</td>\n",
       "      <td>21100000.0</td>\n",
       "      <td>7000000</td>\n",
       "      <td>0.250820</td>\n",
       "      <td>Basic School</td>\n",
       "      <td>NaN</td>\n",
       "    </tr>\n",
       "    <tr>\n",
       "      <th>105270</th>\n",
       "      <td>1583</td>\n",
       "      <td>0</td>\n",
       "      <td>1377000</td>\n",
       "      <td>0.15</td>\n",
       "      <td>18990000.0</td>\n",
       "      <td>25000000</td>\n",
       "      <td>0.061200</td>\n",
       "      <td>Middle School</td>\n",
       "      <td>NaN</td>\n",
       "    </tr>\n",
       "  </tbody>\n",
       "</table>\n",
       "<p>105271 rows × 9 columns</p>\n",
       "</div>"
      ],
      "text/plain": [
       "        APP_ID  BAD  APPMONTHPAYMENT  NATIONALID_DATE   CREDITSUM  \\\n",
       "0       225042    0          1786000             5.33  15825000.0   \n",
       "1        80968    0          2257000             6.32  15000000.0   \n",
       "2       158503    1          1730000             4.08  14770000.0   \n",
       "3       121869    0          1951000             2.05  20000000.0   \n",
       "4       160681    1          2059000             0.62  31650000.0   \n",
       "...        ...  ...              ...              ...         ...   \n",
       "105266  128917    0          1191000             2.27  10550000.0   \n",
       "105267  176369    0          1886000             9.65  31650000.0   \n",
       "105268   36002    0          2097000            12.85  32250000.0   \n",
       "105269  132658    0          1530000             0.09  21100000.0   \n",
       "105270    1583    0          1377000             0.15  18990000.0   \n",
       "\n",
       "        PRIMARYINCOME  RATIO_INST_PER_INCOME   APPEDUCATION  \\\n",
       "0            12000000               0.178600    High School   \n",
       "1             5000000               0.550488  Middle School   \n",
       "2             8000000               0.247143   Basic School   \n",
       "3            11000000               0.243875    High School   \n",
       "4            15000000               0.158385  Master Degree   \n",
       "...               ...                    ...            ...   \n",
       "105266       20000000               0.066167  Middle School   \n",
       "105267        6000000               0.369804  Middle School   \n",
       "105268       10000000               0.233000    High School   \n",
       "105269        7000000               0.250820   Basic School   \n",
       "105270       25000000               0.061200  Middle School   \n",
       "\n",
       "                          PRODUCT  \n",
       "0                             NaN  \n",
       "1                             NaN  \n",
       "2                             NaN  \n",
       "3         Secured normal customer  \n",
       "4         Secured normal customer  \n",
       "...                           ...  \n",
       "105266                        NaN  \n",
       "105267  Secured priority customer  \n",
       "105268    Secured normal customer  \n",
       "105269                        NaN  \n",
       "105270                        NaN  \n",
       "\n",
       "[105271 rows x 9 columns]"
      ]
     },
     "execution_count": 3,
     "metadata": {},
     "output_type": "execute_result"
    }
   ],
   "source": [
    "data = pd.read_csv('D:/Python_Code/VP Bank Intern Projects/1.Delinquent Debt  Again/Data-test-TTS.csv')\n",
    "data"
   ]
  },
  {
   "cell_type": "code",
   "execution_count": 4,
   "metadata": {},
   "outputs": [
    {
     "data": {
      "text/plain": [
       "APP_ID                       0\n",
       "BAD                          0\n",
       "APPMONTHPAYMENT              0\n",
       "NATIONALID_DATE              0\n",
       "CREDITSUM                  871\n",
       "PRIMARYINCOME                0\n",
       "RATIO_INST_PER_INCOME      871\n",
       "APPEDUCATION               871\n",
       "PRODUCT                  28993\n",
       "dtype: int64"
      ]
     },
     "execution_count": 4,
     "metadata": {},
     "output_type": "execute_result"
    }
   ],
   "source": [
    "data.isnull().sum()"
   ]
  },
  {
   "cell_type": "markdown",
   "metadata": {},
   "source": [
    "# **FUNCTION**"
   ]
  },
  {
   "cell_type": "code",
   "execution_count": 3,
   "metadata": {},
   "outputs": [],
   "source": [
    "#Hàm tính WOE vs IV cho các biến\n",
    "def calculate_odds_bad_rate(data, feature, target):\n",
    "    # Tính tổng số trường hợp và tổng số \"bad\" cho mỗi giá trị của feature\n",
    "    feature_group = data.groupby(feature)[target].agg(['sum', 'count'])\n",
    "    feature_group.columns = ['bad', 'total']\n",
    "    # Tính số trường hợp \"good\"\n",
    "    feature_group['good'] = feature_group['total'] - feature_group['bad']\n",
    "    # Tính tỷ lệ bad và good\n",
    "    feature_group['bad_rate'] = feature_group['bad'] / feature_group['total']\n",
    "    feature_group['good_rate'] = feature_group['good'] / feature_group['total']\n",
    "    # Tính Odds\n",
    "    feature_group['odds'] = feature_group['good'] / feature_group['bad']\n",
    "    # Tính tổng số trường hợp \"good\" và \"bad\" để tính WOE và IV\n",
    "    total_good = feature_group['good'].sum()\n",
    "    total_bad = feature_group['bad'].sum()\n",
    "    # Tính WOE và IV\n",
    "    feature_group['WOE'] = np.log((feature_group['good'] / total_good) / (feature_group['bad'] / total_bad))\n",
    "    feature_group['IV'] = (feature_group['good'] / total_good - feature_group['bad'] / total_bad) * feature_group['WOE']\n",
    "    # Xử lý các giá trị vô hạn hoặc lỗi chia 0 (do log hoặc chia cho 0)\n",
    "    feature_group.replace([np.inf, -np.inf], np.nan, inplace=True)\n",
    "    feature_group.fillna(0, inplace=True)\n",
    "    \n",
    "    # Tính tổng IV cho tất cả các nhóm\n",
    "    total_iv = feature_group['IV'].sum()\n",
    "    print(f\"Total IV for {feature}: {total_iv:.4f}\")\n",
    "    \n",
    "    return feature_group[['good', 'bad', 'good_rate', 'bad_rate', 'odds', 'WOE', 'IV']]"
   ]
  },
  {
   "cell_type": "code",
   "execution_count": 4,
   "metadata": {},
   "outputs": [],
   "source": [
    "#Hàm đánh giá hiệu suất\n",
    "def print_scores(y_test, y_pred):\n",
    "  print(classification_report(y_test, y_pred))\n",
    "\n",
    "#Hàm chia tập train-test và MinMax Scaler\n",
    "def preprocess_data(data):\n",
    "\n",
    "    # Chia tập train-test\n",
    "    X = data.drop(columns=['BAD'], axis=1)\n",
    "    y = data['BAD']\n",
    "\n",
    "    X_train, y_train = X, y\n",
    "\n",
    "    #Standard Scaler:\n",
    "    scaler = MinMaxScaler()\n",
    "    X_train = scaler.fit_transform(X_train)\n",
    "\n",
    "    return X_train, y_train\n",
    "\n",
    "# Hàm tính Cross Validation\n",
    "def cross_val(model, X_train, y_train):\n",
    "    cv_scores = cross_val_score(model, X_train, y_train, cv=5, scoring='accuracy')\n",
    "    print(\"Cross-validation scores:\", cv_scores)\n",
    "    print(\"Mean CV score:\", cv_scores.mean())\n",
    "    print(\"Standard deviation of CV score:\", cv_scores.std())\n",
    "    return cv_scores, cv_scores.mean(), cv_scores.std()\n",
    "\n",
    "#Hàm tính Gini\n",
    "def gini_coefficient(y_true, y_pred):\n",
    "    # Tính chỉ số Gini từ AUC\n",
    "    auc = roc_auc_score(y_true, y_pred)\n",
    "    return 2 * auc - 1"
   ]
  },
  {
   "cell_type": "code",
   "execution_count": 5,
   "metadata": {},
   "outputs": [],
   "source": [
    "#Hàm train, test\n",
    "def train_test_model(model, X_train, y_train):\n",
    "    print(f\"Model:\", model)\n",
    "    model.fit(X_train, y_train)\n",
    "    \n",
    "    # Dự đoán cho tập huấn luyện và tập kiểm tra\n",
    "    y_train_pred = model.predict(X_train)\n",
    "\n",
    "    # Tính xác suất dự đoán và hệ số Gini cho tập huấn luyện\n",
    "    y_train_pred_prob = model.predict_proba(X_train)[:, 1]\n",
    "    gini_train = gini_coefficient(y_train, y_train_pred_prob)\n",
    "\n",
    "    # In các chỉ số đánh giá cho tập huấn luyện\n",
    "    print_scores(y_train, y_train_pred)\n",
    "    print(\"Gini train:\", gini_train)\n",
    "    \n",
    "    # Thực hiện đánh giá chéo (cross-validation)\n",
    "    cv_scores, cv_mean, cv_std = cross_val(model, X_train, y_train)"
   ]
  },
  {
   "cell_type": "code",
   "execution_count": 2,
   "metadata": {},
   "outputs": [
    {
     "name": "stderr",
     "output_type": "stream",
     "text": [
      "C:\\Users\\CAOVU\\AppData\\Local\\Temp\\ipykernel_11772\\1106161577.py:24: UserWarning: set_ticklabels() should only be used with a fixed number of ticks, i.e. after set_ticks() or using a FixedLocator.\n",
      "  ax1.set_xticklabels(df['APPEDUCATION'], rotation=90)\n"
     ]
    },
    {
     "data": {
      "image/png": "[encoded data removed]",
      "text/plain": [
       "<Figure size 1000x600 with 2 Axes>"
      ]
     },
     "metadata": {},
     "output_type": "display_data"
    }
   ],
   "source": [
    "import pandas as pd\n",
    "import matplotlib.pyplot as plt\n",
    "import seaborn as sns\n",
    "\n",
    "# Dữ liệu\n",
    "data = {\n",
    "    'APPEDUCATION': [\n",
    "        'High education', 'Low education'\n",
    "    ],\n",
    "    'WOE': [0.255, -0.039],\n",
    "\n",
    "    'Count': [10713, 62978]\n",
    "}\n",
    "df = pd.DataFrame(data)\n",
    "\n",
    "# Kích thước và thiết lập chung\n",
    "fig, ax1 = plt.subplots(figsize=(10, 6))\n",
    "\n",
    "# Biểu đồ cột (barchart) thể hiện số lượng\n",
    "sns.barplot(x='APPEDUCATION', y='Count', data=df, ax=ax1, color='skyblue')\n",
    "ax1.set_xlabel('APPEDUCATION')\n",
    "ax1.set_ylabel('Count', color='blue')\n",
    "ax1.tick_params(axis='y', labelcolor='blue')\n",
    "ax1.set_xticklabels(df['APPEDUCATION'], rotation=90)\n",
    "\n",
    "# Thêm số lượng trên đỉnh mỗi cột\n",
    "for index, value in enumerate(df['Count']):\n",
    "    ax1.text(index, value + 500, str(value), ha='center', color='blue')\n",
    "\n",
    "# Biểu đồ đường (linechart) thể hiện WOE\n",
    "ax2 = ax1.twinx()\n",
    "sns.lineplot(x='APPEDUCATION', y='WOE', data=df, marker='o', ax=ax2, color='red')\n",
    "ax2.set_ylabel('WOE', color='red')\n",
    "ax2.tick_params(axis='y', labelcolor='red')\n",
    "\n",
    "plt.title('APPEDUCATION vs Count and WOE')\n",
    "plt.show()"
   ]
  },
  {
   "cell_type": "markdown",
   "metadata": {},
   "source": [
    "# **I. CHECKING DỮ LIỆU**"
   ]
  },
  {
   "cell_type": "markdown",
   "metadata": {},
   "source": [
    "***Bù vào CREDITSUM một dữ liệu bất kì (để fillna) vì cột này không cần dùng***"
   ]
  },
  {
   "cell_type": "code",
   "execution_count": 4,
   "metadata": {},
   "outputs": [
    {
     "data": {
      "text/plain": [
       "APP_ID                       0\n",
       "BAD                          0\n",
       "APPMONTHPAYMENT              0\n",
       "NATIONALID_DATE              0\n",
       "CREDITSUM                    0\n",
       "PRIMARYINCOME                0\n",
       "RATIO_INST_PER_INCOME      871\n",
       "APPEDUCATION               871\n",
       "PRODUCT                  28993\n",
       "dtype: int64"
      ]
     },
     "execution_count": 4,
     "metadata": {},
     "output_type": "execute_result"
    }
   ],
   "source": [
    "data.isnull().sum()"
   ]
  },
  {
   "cell_type": "markdown",
   "metadata": {},
   "source": [
    "***Fill NaN cho RATIO_INST_PER_INCOME***"
   ]
  },
  {
   "cell_type": "code",
   "execution_count": 5,
   "metadata": {},
   "outputs": [],
   "source": [
    "z = 0.8687378233570745\n",
    "data['RATIO_INST_PER_INCOME'] = data['RATIO_INST_PER_INCOME'].fillna(data['APPMONTHPAYMENT']/data['PRIMARYINCOME']/z)"
   ]
  },
  {
   "cell_type": "markdown",
   "metadata": {},
   "source": [
    "***Những dữ liệu bị thiếu trong PRODUCT có thể ám chỉ rằng: trước đây người vay chưa từng vay*** "
   ]
  },
  {
   "cell_type": "code",
   "execution_count": 6,
   "metadata": {},
   "outputs": [],
   "source": [
    "#Sinh thêm 1 giá trị là 'No product in past', ám chỉ việc người vay chưa từng vay trong quá khứ:\n",
    "data['PRODUCT'] = data['PRODUCT'].apply(lambda x: 'No product in past' if pd.isna(x) else x)"
   ]
  },
  {
   "cell_type": "markdown",
   "metadata": {},
   "source": [
    "***APPEDUCATION***"
   ]
  },
  {
   "cell_type": "code",
   "execution_count": 7,
   "metadata": {},
   "outputs": [],
   "source": [
    "#Bù đắp bằng giá trị phổ biến nhất, do Null không quá nhiều\n",
    "data['APPEDUCATION'] = data['APPEDUCATION'].fillna('High School')"
   ]
  },
  {
   "cell_type": "markdown",
   "metadata": {},
   "source": [
    "***NATIONALID_DATE***"
   ]
  },
  {
   "cell_type": "code",
   "execution_count": 8,
   "metadata": {},
   "outputs": [],
   "source": [
    "data['NATIONALID_DATE'] = data['NATIONALID_DATE'].replace([-0.02, -0.01], [0.02, 0.01])"
   ]
  },
  {
   "cell_type": "markdown",
   "metadata": {},
   "source": [
    "***Vậy là dữ liệu đã hết Null***"
   ]
  },
  {
   "cell_type": "code",
   "execution_count": 12,
   "metadata": {},
   "outputs": [
    {
     "data": {
      "text/plain": [
       "APP_ID                   0\n",
       "BAD                      0\n",
       "APPMONTHPAYMENT          0\n",
       "NATIONALID_DATE          0\n",
       "CREDITSUM                0\n",
       "PRIMARYINCOME            0\n",
       "RATIO_INST_PER_INCOME    0\n",
       "APPEDUCATION             0\n",
       "PRODUCT                  0\n",
       "dtype: int64"
      ]
     },
     "execution_count": 12,
     "metadata": {},
     "output_type": "execute_result"
    }
   ],
   "source": [
    "data.isnull().sum()"
   ]
  },
  {
   "cell_type": "markdown",
   "metadata": {},
   "source": [
    "# **FIXING VALUES**"
   ]
  },
  {
   "cell_type": "markdown",
   "metadata": {},
   "source": [
    "***Ở đây, ta sẽ bổ sung vào các giá trị phổ biến một số lẻ rất nhỏ, để cho số lượng các bins khi chia sẽ được đồng đều***"
   ]
  },
  {
   "cell_type": "markdown",
   "metadata": {},
   "source": [
    "***PRIMARYINCOME***"
   ]
  },
  {
   "cell_type": "code",
   "execution_count": 17,
   "metadata": {},
   "outputs": [],
   "source": [
    "data['PRIMARYINCOME'] = data['PRIMARYINCOME'].astype(float)\n",
    "specific_PRIMARYINCOME = [10000000, 8000000, 15000000, 7000000, 9000000, 12000000, 6000000, 20000000, \n",
    "                          5000000, 7500000, 6500000, 13000000, 11000000, 18000000, 8500000]\n",
    "for i in specific_PRIMARYINCOME:\n",
    "    increment = 0.001\n",
    "    indices = data[data['PRIMARYINCOME'] == i].index\n",
    "    increments = np.arange(0, increment * len(indices), increment)\n",
    "    data.loc[indices, 'PRIMARYINCOME'] += increments"
   ]
  },
  {
   "cell_type": "code",
   "execution_count": 18,
   "metadata": {},
   "outputs": [
    {
     "name": "stdout",
     "output_type": "stream",
     "text": [
      "Income_Bins\n",
      "13    5264\n",
      "0     5338\n",
      "5     5264\n",
      "16    5241\n",
      "2     5263\n",
      "18    5263\n",
      "8     5263\n",
      "1     5190\n",
      "15    5286\n",
      "3     5264\n",
      "10    5263\n",
      "19    5264\n",
      "7     5264\n",
      "14    5263\n",
      "6     5263\n",
      "11    5264\n",
      "9     5264\n",
      "17    5264\n",
      "4     5263\n",
      "12    5263\n",
      "Name: count, dtype: int64\n"
     ]
    }
   ],
   "source": [
    "data['Income_Bins'], bins = pd.qcut(data['PRIMARYINCOME'], q=20, labels=False, retbins=True)\n",
    "bin_counts = data['Income_Bins'].value_counts(sort=False)\n",
    "print(bin_counts)"
   ]
  },
  {
   "cell_type": "markdown",
   "metadata": {},
   "source": [
    "***APPMONTHPAYMENT***"
   ]
  },
  {
   "cell_type": "code",
   "execution_count": 19,
   "metadata": {},
   "outputs": [],
   "source": [
    "data['APPMONTHPAYMENT'] = data['APPMONTHPAYMENT'].astype(float)\n",
    "specific_APPMONTHPAYMENT = [1912000, 3176000, 1530000, 2796000, 2059000, 1191000, 2257000, 2238000, 2058000, 2381000, \n",
    "                            1373000, 1119000, 2976000, 1656000, 2097000, 1948000, 1812000, 2484000, 3143000, 1372000, 3425000]\n",
    "for i in specific_APPMONTHPAYMENT:\n",
    "    increment = 0.001\n",
    "    indices = data[data['APPMONTHPAYMENT'] == i].index\n",
    "    increments = np.arange(0, increment * len(indices), increment)\n",
    "    data.loc[indices, 'APPMONTHPAYMENT'] += increments"
   ]
  },
  {
   "cell_type": "code",
   "execution_count": 20,
   "metadata": {},
   "outputs": [
    {
     "name": "stdout",
     "output_type": "stream",
     "text": [
      "Payment_Bins\n",
      "7     5265\n",
      "12    5321\n",
      "6     5331\n",
      "9     5405\n",
      "10    5122\n",
      "3     4889\n",
      "17    5224\n",
      "5     5264\n",
      "15    4958\n",
      "2     5639\n",
      "4     5262\n",
      "14    4688\n",
      "11    5407\n",
      "0     5264\n",
      "1     5264\n",
      "8     5194\n",
      "18    5329\n",
      "19    5198\n",
      "16    5303\n",
      "13    5944\n",
      "Name: count, dtype: int64\n"
     ]
    }
   ],
   "source": [
    "data['Payment_Bins'], bins = pd.qcut(data['APPMONTHPAYMENT'], q=20, labels=False, retbins=True)\n",
    "bin_counts = data['Payment_Bins'].value_counts(sort=False)\n",
    "print(bin_counts)"
   ]
  },
  {
   "cell_type": "code",
   "execution_count": 21,
   "metadata": {},
   "outputs": [],
   "source": [
    "data = data.drop(columns = ['Income_Bins', 'Payment_Bins'])"
   ]
  },
  {
   "cell_type": "markdown",
   "metadata": {},
   "source": [
    "***APPEDUCATION: Phân chia các giá trị thành các nhóm trình độ từ cao-thấp***"
   ]
  },
  {
   "cell_type": "code",
   "execution_count": 22,
   "metadata": {},
   "outputs": [],
   "source": [
    "data['APPEDUCATION'] = data['APPEDUCATION'].replace({\n",
    "    'Bachelor': 'High education',\n",
    "    'Master Degree': 'High education',\n",
    "    'College': 'High education',\n",
    "    'Working Cerfiticate': 'Low education',\n",
    "    'High School': 'Low education',\n",
    "    'Middle School': 'Low education',\n",
    "    'Basic School': 'Low education',\n",
    "    'No Education': 'Low education'\n",
    "})"
   ]
  },
  {
   "cell_type": "markdown",
   "metadata": {},
   "source": [
    "***PRODUCT: Nhóm một số giá trị lại với nhau***"
   ]
  },
  {
   "cell_type": "code",
   "execution_count": 24,
   "metadata": {},
   "outputs": [],
   "source": [
    "data['PRODUCT'] = data['PRODUCT'].replace({\n",
    "    'Special product (priority customer)': 'Special product (Normal + Priority)', \n",
    "    'Special product (Normal customer)': 'Special product (Normal + Priority)'})"
   ]
  },
  {
   "cell_type": "markdown",
   "metadata": {},
   "source": [
    "# **ADD NEW COLS**"
   ]
  },
  {
   "cell_type": "markdown",
   "metadata": {},
   "source": [
    "***1.Potential_Score***"
   ]
  },
  {
   "cell_type": "code",
   "execution_count": 26,
   "metadata": {},
   "outputs": [
    {
     "name": "stderr",
     "output_type": "stream",
     "text": [
      "C:\\Users\\CAOVU\\AppData\\Local\\Packages\\PythonSoftwareFoundation.Python.3.12_qbz5n2kfra8p0\\LocalCache\\local-packages\\Python312\\site-packages\\pandas\\core\\arraylike.py:399: RuntimeWarning: divide by zero encountered in log\n",
      "  result = getattr(ufunc, method)(*inputs, **kwargs)\n"
     ]
    }
   ],
   "source": [
    "#Column đánh giá chỉ số tiềm năng của khách hàng, bằng cách nhân Thu nhập vs Độ tuổi, dùng hàm Log để tinh gọn giá trị\n",
    "data['Potential_Score'] = np.log(data['PRIMARYINCOME']/1000000 * data['NATIONALID_DATE'])\n",
    "\n",
    "#Đổi các giá trị -Inf (âm vô cực) thành -10, ám chỉ rằng rất nhỏ\n",
    "data['Potential_Score'] = data['Potential_Score'].replace(-np.inf, -10)"
   ]
  }
 ],
 "metadata": {
  "colab": {
   "authorship_tag": "ABX9TyNf1ipJLBMHlIVTWK5/XJly",
   "provenance": []
  },
  "kernelspec": {
   "display_name": "Python 3",
   "language": "python",
   "name": "python3"
  },
  "language_info": {
   "codemirror_mode": {
    "name": "ipython",
    "version": 3
   },
   "file_extension": ".py",
   "mimetype": "text/x-python",
   "name": "python",
   "nbconvert_exporter": "python",
   "pygments_lexer": "ipython3",
   "version": "3.12.8"
  }
 },
 "nbformat": 4,
 "nbformat_minor": 0
}
